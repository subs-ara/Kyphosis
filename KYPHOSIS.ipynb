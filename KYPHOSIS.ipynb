{
 "cells": [
  {
   "cell_type": "markdown",
   "metadata": {},
   "source": [
    "KYPHOSIS PREDICTION"
   ]
  },
  {
   "cell_type": "code",
   "execution_count": 1,
   "metadata": {},
   "outputs": [],
   "source": [
    "#Importing the dependencies\n",
    "import numpy as np\n",
    "import pandas as pd\n",
    "from sklearn.preprocessing import StandardScaler\n",
    "from sklearn.model_selection import train_test_split\n",
    "from sklearn import svm\n",
    "from sklearn.metrics import accuracy_score"
   ]
  },
  {
   "cell_type": "markdown",
   "metadata": {},
   "source": [
    "Data collection and analysis"
   ]
  },
  {
   "cell_type": "code",
   "execution_count": 2,
   "metadata": {},
   "outputs": [],
   "source": [
    "#loading the kyphosis dataset to the pandas Dataframe\n",
    "kyphosis_dataset = pd.read_csv('Kyphosis.csv')\n",
    "pd.read_csv?"
   ]
  },
  {
   "cell_type": "code",
   "execution_count": 3,
   "metadata": {},
   "outputs": [
    {
     "data": {
      "text/html": [
       "<div>\n",
       "<style scoped>\n",
       "    .dataframe tbody tr th:only-of-type {\n",
       "        vertical-align: middle;\n",
       "    }\n",
       "\n",
       "    .dataframe tbody tr th {\n",
       "        vertical-align: top;\n",
       "    }\n",
       "\n",
       "    .dataframe thead th {\n",
       "        text-align: right;\n",
       "    }\n",
       "</style>\n",
       "<table border=\"1\" class=\"dataframe\">\n",
       "  <thead>\n",
       "    <tr style=\"text-align: right;\">\n",
       "      <th></th>\n",
       "      <th>Kyphosis</th>\n",
       "      <th>Age</th>\n",
       "      <th>Number</th>\n",
       "      <th>Start</th>\n",
       "    </tr>\n",
       "  </thead>\n",
       "  <tbody>\n",
       "    <tr>\n",
       "      <th>0</th>\n",
       "      <td>absent</td>\n",
       "      <td>71</td>\n",
       "      <td>3</td>\n",
       "      <td>5</td>\n",
       "    </tr>\n",
       "    <tr>\n",
       "      <th>1</th>\n",
       "      <td>absent</td>\n",
       "      <td>158</td>\n",
       "      <td>3</td>\n",
       "      <td>14</td>\n",
       "    </tr>\n",
       "    <tr>\n",
       "      <th>2</th>\n",
       "      <td>present</td>\n",
       "      <td>128</td>\n",
       "      <td>4</td>\n",
       "      <td>5</td>\n",
       "    </tr>\n",
       "    <tr>\n",
       "      <th>3</th>\n",
       "      <td>absent</td>\n",
       "      <td>2</td>\n",
       "      <td>5</td>\n",
       "      <td>1</td>\n",
       "    </tr>\n",
       "    <tr>\n",
       "      <th>4</th>\n",
       "      <td>absent</td>\n",
       "      <td>1</td>\n",
       "      <td>4</td>\n",
       "      <td>15</td>\n",
       "    </tr>\n",
       "  </tbody>\n",
       "</table>\n",
       "</div>"
      ],
      "text/plain": [
       "  Kyphosis  Age  Number  Start\n",
       "0   absent   71       3      5\n",
       "1   absent  158       3     14\n",
       "2  present  128       4      5\n",
       "3   absent    2       5      1\n",
       "4   absent    1       4     15"
      ]
     },
     "execution_count": 3,
     "metadata": {},
     "output_type": "execute_result"
    }
   ],
   "source": [
    "#first 5 data of the dataset\n",
    "kyphosis_dataset.head()\n",
    "\n",
    "#kyphosis- a factor with levels absent/present indiacting if a kyphosis was present after the operation\n",
    "#age-in months\n",
    "#number- the number of vertebrae involved\n",
    "#start- the number of 1st vertebrae operated on\n",
    "\n",
    "#an adult body has total 24 vertebrae"
   ]
  },
  {
   "cell_type": "code",
   "execution_count": 4,
   "metadata": {},
   "outputs": [
    {
     "data": {
      "text/plain": [
       "(81, 4)"
      ]
     },
     "execution_count": 4,
     "metadata": {},
     "output_type": "execute_result"
    }
   ],
   "source": [
    "#number of rows and column in the dataset\n",
    "kyphosis_dataset.shape"
   ]
  },
  {
   "cell_type": "code",
   "execution_count": 5,
   "metadata": {},
   "outputs": [
    {
     "data": {
      "text/html": [
       "<div>\n",
       "<style scoped>\n",
       "    .dataframe tbody tr th:only-of-type {\n",
       "        vertical-align: middle;\n",
       "    }\n",
       "\n",
       "    .dataframe tbody tr th {\n",
       "        vertical-align: top;\n",
       "    }\n",
       "\n",
       "    .dataframe thead th {\n",
       "        text-align: right;\n",
       "    }\n",
       "</style>\n",
       "<table border=\"1\" class=\"dataframe\">\n",
       "  <thead>\n",
       "    <tr style=\"text-align: right;\">\n",
       "      <th></th>\n",
       "      <th>Age</th>\n",
       "      <th>Number</th>\n",
       "      <th>Start</th>\n",
       "    </tr>\n",
       "  </thead>\n",
       "  <tbody>\n",
       "    <tr>\n",
       "      <th>count</th>\n",
       "      <td>81.000000</td>\n",
       "      <td>81.000000</td>\n",
       "      <td>81.000000</td>\n",
       "    </tr>\n",
       "    <tr>\n",
       "      <th>mean</th>\n",
       "      <td>83.654321</td>\n",
       "      <td>4.049383</td>\n",
       "      <td>11.493827</td>\n",
       "    </tr>\n",
       "    <tr>\n",
       "      <th>std</th>\n",
       "      <td>58.104251</td>\n",
       "      <td>1.619423</td>\n",
       "      <td>4.883962</td>\n",
       "    </tr>\n",
       "    <tr>\n",
       "      <th>min</th>\n",
       "      <td>1.000000</td>\n",
       "      <td>2.000000</td>\n",
       "      <td>1.000000</td>\n",
       "    </tr>\n",
       "    <tr>\n",
       "      <th>25%</th>\n",
       "      <td>26.000000</td>\n",
       "      <td>3.000000</td>\n",
       "      <td>9.000000</td>\n",
       "    </tr>\n",
       "    <tr>\n",
       "      <th>50%</th>\n",
       "      <td>87.000000</td>\n",
       "      <td>4.000000</td>\n",
       "      <td>13.000000</td>\n",
       "    </tr>\n",
       "    <tr>\n",
       "      <th>75%</th>\n",
       "      <td>130.000000</td>\n",
       "      <td>5.000000</td>\n",
       "      <td>16.000000</td>\n",
       "    </tr>\n",
       "    <tr>\n",
       "      <th>max</th>\n",
       "      <td>206.000000</td>\n",
       "      <td>10.000000</td>\n",
       "      <td>18.000000</td>\n",
       "    </tr>\n",
       "  </tbody>\n",
       "</table>\n",
       "</div>"
      ],
      "text/plain": [
       "              Age     Number      Start\n",
       "count   81.000000  81.000000  81.000000\n",
       "mean    83.654321   4.049383  11.493827\n",
       "std     58.104251   1.619423   4.883962\n",
       "min      1.000000   2.000000   1.000000\n",
       "25%     26.000000   3.000000   9.000000\n",
       "50%     87.000000   4.000000  13.000000\n",
       "75%    130.000000   5.000000  16.000000\n",
       "max    206.000000  10.000000  18.000000"
      ]
     },
     "execution_count": 5,
     "metadata": {},
     "output_type": "execute_result"
    }
   ],
   "source": [
    "#getting the statistical measures of the data\n",
    "kyphosis_dataset.describe()\n",
    "#25% means that around 25% of value are less than 26.000 or 3.0000 depending upon the column they represent\n",
    "#its not percentage its the percentile"
   ]
  },
  {
   "cell_type": "code",
   "execution_count": 6,
   "metadata": {},
   "outputs": [
    {
     "data": {
      "text/plain": [
       "absent     64\n",
       "present    17\n",
       "Name: Kyphosis, dtype: int64"
      ]
     },
     "execution_count": 6,
     "metadata": {},
     "output_type": "execute_result"
    }
   ],
   "source": [
    "kyphosis_dataset['Kyphosis'].value_counts()"
   ]
  },
  {
   "cell_type": "code",
   "execution_count": 7,
   "metadata": {},
   "outputs": [
    {
     "data": {
      "text/html": [
       "<div>\n",
       "<style scoped>\n",
       "    .dataframe tbody tr th:only-of-type {\n",
       "        vertical-align: middle;\n",
       "    }\n",
       "\n",
       "    .dataframe tbody tr th {\n",
       "        vertical-align: top;\n",
       "    }\n",
       "\n",
       "    .dataframe thead th {\n",
       "        text-align: right;\n",
       "    }\n",
       "</style>\n",
       "<table border=\"1\" class=\"dataframe\">\n",
       "  <thead>\n",
       "    <tr style=\"text-align: right;\">\n",
       "      <th></th>\n",
       "      <th>Age</th>\n",
       "      <th>Number</th>\n",
       "      <th>Start</th>\n",
       "    </tr>\n",
       "    <tr>\n",
       "      <th>Kyphosis</th>\n",
       "      <th></th>\n",
       "      <th></th>\n",
       "      <th></th>\n",
       "    </tr>\n",
       "  </thead>\n",
       "  <tbody>\n",
       "    <tr>\n",
       "      <th>absent</th>\n",
       "      <td>79.890625</td>\n",
       "      <td>3.750000</td>\n",
       "      <td>12.609375</td>\n",
       "    </tr>\n",
       "    <tr>\n",
       "      <th>present</th>\n",
       "      <td>97.823529</td>\n",
       "      <td>5.176471</td>\n",
       "      <td>7.294118</td>\n",
       "    </tr>\n",
       "  </tbody>\n",
       "</table>\n",
       "</div>"
      ],
      "text/plain": [
       "                Age    Number      Start\n",
       "Kyphosis                                \n",
       "absent    79.890625  3.750000  12.609375\n",
       "present   97.823529  5.176471   7.294118"
      ]
     },
     "execution_count": 7,
     "metadata": {},
     "output_type": "execute_result"
    }
   ],
   "source": [
    "kyphosis_dataset.groupby('Kyphosis').mean()\n",
    "#in case of present: in 97 months that is 8.8years the 5th vertebrae was involved in kyphosis syndrome,\n",
    "# in 7th vertebrae it was first operated"
   ]
  },
  {
   "cell_type": "code",
   "execution_count": 8,
   "metadata": {},
   "outputs": [],
   "source": [
    "#separating data and labels\n",
    "x=kyphosis_dataset.drop('Kyphosis',axis=1)\n",
    "y=kyphosis_dataset['Kyphosis']"
   ]
  },
  {
   "cell_type": "code",
   "execution_count": 9,
   "metadata": {},
   "outputs": [
    {
     "name": "stdout",
     "output_type": "stream",
     "text": [
      "    Age  Number  Start\n",
      "0    71       3      5\n",
      "1   158       3     14\n",
      "2   128       4      5\n",
      "3     2       5      1\n",
      "4     1       4     15\n",
      "..  ...     ...    ...\n",
      "76  157       3     13\n",
      "77   26       7     13\n",
      "78  120       2     13\n",
      "79   42       7      6\n",
      "80   36       4     13\n",
      "\n",
      "[81 rows x 3 columns]\n"
     ]
    }
   ],
   "source": [
    "print(x)"
   ]
  },
  {
   "cell_type": "code",
   "execution_count": 10,
   "metadata": {},
   "outputs": [
    {
     "name": "stdout",
     "output_type": "stream",
     "text": [
      "0      absent\n",
      "1      absent\n",
      "2     present\n",
      "3      absent\n",
      "4      absent\n",
      "       ...   \n",
      "76    present\n",
      "77     absent\n",
      "78     absent\n",
      "79    present\n",
      "80     absent\n",
      "Name: Kyphosis, Length: 81, dtype: object\n"
     ]
    }
   ],
   "source": [
    "print(y)"
   ]
  },
  {
   "cell_type": "markdown",
   "metadata": {},
   "source": [
    "Data Standardization"
   ]
  },
  {
   "cell_type": "code",
   "execution_count": 11,
   "metadata": {},
   "outputs": [],
   "source": [
    "scaler = StandardScaler()"
   ]
  },
  {
   "cell_type": "code",
   "execution_count": 12,
   "metadata": {},
   "outputs": [
    {
     "data": {
      "text/plain": [
       "StandardScaler(copy=True, with_mean=True, with_std=True)"
      ]
     },
     "execution_count": 12,
     "metadata": {},
     "output_type": "execute_result"
    }
   ],
   "source": [
    "scaler.fit(x)"
   ]
  },
  {
   "cell_type": "code",
   "execution_count": 13,
   "metadata": {},
   "outputs": [],
   "source": [
    "standardized_data = scaler.transform(x)"
   ]
  },
  {
   "cell_type": "code",
   "execution_count": 14,
   "metadata": {},
   "outputs": [
    {
     "name": "stdout",
     "output_type": "stream",
     "text": [
      "[[-0.21914343 -0.65203532 -1.33790708]\n",
      " [ 1.28749437 -0.65203532  0.51634056]\n",
      " [ 0.7679641  -0.03068401 -1.33790708]\n",
      " [-1.41406306  0.59066729 -2.16201714]\n",
      " [-1.43138074 -0.03068401  0.72236808]\n",
      " [-1.43138074 -1.27338662  0.92839559]\n",
      " [-0.39232019 -1.27338662  1.13442311]\n",
      " [-0.80794441 -0.65203532  0.92839559]\n",
      " [ 0.50819896 -1.27338662  0.92839559]\n",
      " [-0.42695554  1.21201859  0.10428553]\n",
      " [-0.02864899  0.59066729  0.51634056]\n",
      " [ 1.11431761 -0.65203532  0.92839559]\n",
      " [-1.13698025  0.59066729 -1.95598962]\n",
      " [-1.43138074 -0.03068401  0.10428553]\n",
      " [ 1.46067113 -0.65203532  1.34045062]\n",
      " [-1.43138074 -0.65203532  0.92839559]\n",
      " [-0.0979197   1.21201859  0.72236808]\n",
      " [ 1.58189486  0.59066729  0.31031305]\n",
      " [-0.06328435  0.59066729  0.92839559]\n",
      " [-0.98112117 -0.03068401 -0.51379701]\n",
      " [-1.06770955 -1.27338662  0.92839559]\n",
      " [ 0.36965755  1.21201859 -1.33790708]\n",
      " [ 0.21379847 -0.65203532  0.10428553]\n",
      " [ 0.81991712 -1.27338662 -1.74996211]\n",
      " [-1.18893328  1.83336989 -1.95598962]\n",
      " [-1.29283933  0.59066729  0.31031305]\n",
      " [-1.31015701 -0.65203532 -1.13187956]\n",
      " [ 0.28306917 -0.65203532  0.51634056]\n",
      " [-1.37942771 -0.65203532  0.92839559]\n",
      " [ 1.16627064 -1.27338662  0.92839559]\n",
      " [-0.91185046 -0.65203532  0.92839559]\n",
      " [ 0.71601107 -1.27338662 -0.10174198]\n",
      " [ 0.80259945  0.59066729  0.31031305]\n",
      " [ 0.49088128 -0.65203532  0.92839559]\n",
      " [ 0.97577621  0.59066729 -0.10174198]\n",
      " [ 0.16184544 -0.65203532  0.92839559]\n",
      " [-1.43138074 -0.65203532 -0.51379701]\n",
      " [-0.54817927  0.59066729 -1.13187956]\n",
      " [-1.1023449   1.21201859 -0.51379701]\n",
      " [ 0.12721009  0.59066729  0.10428553]\n",
      " [-0.18450808  0.59066729 -2.16201714]\n",
      " [-0.84257976 -0.65203532  0.31031305]\n",
      " [ 1.02772923  3.07607249 -1.74996211]\n",
      " [-0.39232019 -0.03068401 -2.16201714]\n",
      " [ 0.23111614 -0.65203532  0.92839559]\n",
      " [ 0.95845853 -0.65203532 -0.3077695 ]\n",
      " [ 0.9065055  -0.03068401  0.72236808]\n",
      " [ 0.81991712  0.59066729  0.31031305]\n",
      " [ 0.64674036 -0.65203532 -1.74996211]\n",
      " [ 1.61653021 -1.27338662  0.51634056]\n",
      " [-0.27109646  0.59066729 -0.3077695 ]\n",
      " [-1.29283933 -1.27338662  1.13442311]\n",
      " [ 0.95845853  3.69742379 -1.13187956]\n",
      " [-1.41406306 -1.27338662  1.13442311]\n",
      " [ 0.97577621 -0.03068401  0.72236808]\n",
      " [-0.20182575  0.59066729  0.72236808]\n",
      " [-1.41406306 -0.65203532  0.31031305]\n",
      " [ 0.62942269  0.59066729 -0.71982453]\n",
      " [-0.56549695  1.83336989 -0.51379701]\n",
      " [ 0.31770452 -0.65203532  0.31031305]\n",
      " [ 0.80259945 -0.03068401 -2.16201714]\n",
      " [ 0.52551663  1.83336989 -0.71982453]\n",
      " [-0.04596667 -0.03068401 -2.16201714]\n",
      " [ 0.59478734 -0.65203532  0.92839559]\n",
      " [ 0.59478734 -0.03068401  0.92839559]\n",
      " [-1.15429793 -0.03068401 -0.3077695 ]\n",
      " [ 1.92824838 -1.27338662  1.13442311]\n",
      " [ 1.30481205 -0.03068401  0.31031305]\n",
      " [-1.13698025 -0.03068401 -0.10174198]\n",
      " [-1.18893328  0.59066729  0.92839559]\n",
      " [ 1.28749437  0.59066729  0.51634056]\n",
      " [ 0.75064642 -0.03068401  0.10428553]\n",
      " [ 0.05793938 -0.03068401  0.92839559]\n",
      " [ 2.11874281 -0.03068401 -0.3077695 ]\n",
      " [-1.25820398 -0.65203532  0.72236808]\n",
      " [ 1.63384789 -0.03068401  0.72236808]\n",
      " [ 1.2701767  -0.65203532  0.31031305]\n",
      " [-0.99843884  1.83336989  0.31031305]\n",
      " [ 0.62942269 -1.27338662  0.31031305]\n",
      " [-0.72135603  1.83336989 -1.13187956]\n",
      " [-0.82526208 -0.03068401  0.31031305]]\n"
     ]
    }
   ],
   "source": [
    "print(standardized_data)"
   ]
  },
  {
   "cell_type": "code",
   "execution_count": 15,
   "metadata": {},
   "outputs": [],
   "source": [
    "x = standardized_data\n",
    "y = kyphosis_dataset['Kyphosis']"
   ]
  },
  {
   "cell_type": "code",
   "execution_count": 16,
   "metadata": {},
   "outputs": [
    {
     "name": "stdout",
     "output_type": "stream",
     "text": [
      "[[-0.21914343 -0.65203532 -1.33790708]\n",
      " [ 1.28749437 -0.65203532  0.51634056]\n",
      " [ 0.7679641  -0.03068401 -1.33790708]\n",
      " [-1.41406306  0.59066729 -2.16201714]\n",
      " [-1.43138074 -0.03068401  0.72236808]\n",
      " [-1.43138074 -1.27338662  0.92839559]\n",
      " [-0.39232019 -1.27338662  1.13442311]\n",
      " [-0.80794441 -0.65203532  0.92839559]\n",
      " [ 0.50819896 -1.27338662  0.92839559]\n",
      " [-0.42695554  1.21201859  0.10428553]\n",
      " [-0.02864899  0.59066729  0.51634056]\n",
      " [ 1.11431761 -0.65203532  0.92839559]\n",
      " [-1.13698025  0.59066729 -1.95598962]\n",
      " [-1.43138074 -0.03068401  0.10428553]\n",
      " [ 1.46067113 -0.65203532  1.34045062]\n",
      " [-1.43138074 -0.65203532  0.92839559]\n",
      " [-0.0979197   1.21201859  0.72236808]\n",
      " [ 1.58189486  0.59066729  0.31031305]\n",
      " [-0.06328435  0.59066729  0.92839559]\n",
      " [-0.98112117 -0.03068401 -0.51379701]\n",
      " [-1.06770955 -1.27338662  0.92839559]\n",
      " [ 0.36965755  1.21201859 -1.33790708]\n",
      " [ 0.21379847 -0.65203532  0.10428553]\n",
      " [ 0.81991712 -1.27338662 -1.74996211]\n",
      " [-1.18893328  1.83336989 -1.95598962]\n",
      " [-1.29283933  0.59066729  0.31031305]\n",
      " [-1.31015701 -0.65203532 -1.13187956]\n",
      " [ 0.28306917 -0.65203532  0.51634056]\n",
      " [-1.37942771 -0.65203532  0.92839559]\n",
      " [ 1.16627064 -1.27338662  0.92839559]\n",
      " [-0.91185046 -0.65203532  0.92839559]\n",
      " [ 0.71601107 -1.27338662 -0.10174198]\n",
      " [ 0.80259945  0.59066729  0.31031305]\n",
      " [ 0.49088128 -0.65203532  0.92839559]\n",
      " [ 0.97577621  0.59066729 -0.10174198]\n",
      " [ 0.16184544 -0.65203532  0.92839559]\n",
      " [-1.43138074 -0.65203532 -0.51379701]\n",
      " [-0.54817927  0.59066729 -1.13187956]\n",
      " [-1.1023449   1.21201859 -0.51379701]\n",
      " [ 0.12721009  0.59066729  0.10428553]\n",
      " [-0.18450808  0.59066729 -2.16201714]\n",
      " [-0.84257976 -0.65203532  0.31031305]\n",
      " [ 1.02772923  3.07607249 -1.74996211]\n",
      " [-0.39232019 -0.03068401 -2.16201714]\n",
      " [ 0.23111614 -0.65203532  0.92839559]\n",
      " [ 0.95845853 -0.65203532 -0.3077695 ]\n",
      " [ 0.9065055  -0.03068401  0.72236808]\n",
      " [ 0.81991712  0.59066729  0.31031305]\n",
      " [ 0.64674036 -0.65203532 -1.74996211]\n",
      " [ 1.61653021 -1.27338662  0.51634056]\n",
      " [-0.27109646  0.59066729 -0.3077695 ]\n",
      " [-1.29283933 -1.27338662  1.13442311]\n",
      " [ 0.95845853  3.69742379 -1.13187956]\n",
      " [-1.41406306 -1.27338662  1.13442311]\n",
      " [ 0.97577621 -0.03068401  0.72236808]\n",
      " [-0.20182575  0.59066729  0.72236808]\n",
      " [-1.41406306 -0.65203532  0.31031305]\n",
      " [ 0.62942269  0.59066729 -0.71982453]\n",
      " [-0.56549695  1.83336989 -0.51379701]\n",
      " [ 0.31770452 -0.65203532  0.31031305]\n",
      " [ 0.80259945 -0.03068401 -2.16201714]\n",
      " [ 0.52551663  1.83336989 -0.71982453]\n",
      " [-0.04596667 -0.03068401 -2.16201714]\n",
      " [ 0.59478734 -0.65203532  0.92839559]\n",
      " [ 0.59478734 -0.03068401  0.92839559]\n",
      " [-1.15429793 -0.03068401 -0.3077695 ]\n",
      " [ 1.92824838 -1.27338662  1.13442311]\n",
      " [ 1.30481205 -0.03068401  0.31031305]\n",
      " [-1.13698025 -0.03068401 -0.10174198]\n",
      " [-1.18893328  0.59066729  0.92839559]\n",
      " [ 1.28749437  0.59066729  0.51634056]\n",
      " [ 0.75064642 -0.03068401  0.10428553]\n",
      " [ 0.05793938 -0.03068401  0.92839559]\n",
      " [ 2.11874281 -0.03068401 -0.3077695 ]\n",
      " [-1.25820398 -0.65203532  0.72236808]\n",
      " [ 1.63384789 -0.03068401  0.72236808]\n",
      " [ 1.2701767  -0.65203532  0.31031305]\n",
      " [-0.99843884  1.83336989  0.31031305]\n",
      " [ 0.62942269 -1.27338662  0.31031305]\n",
      " [-0.72135603  1.83336989 -1.13187956]\n",
      " [-0.82526208 -0.03068401  0.31031305]]\n",
      "0      absent\n",
      "1      absent\n",
      "2     present\n",
      "3      absent\n",
      "4      absent\n",
      "       ...   \n",
      "76    present\n",
      "77     absent\n",
      "78     absent\n",
      "79    present\n",
      "80     absent\n",
      "Name: Kyphosis, Length: 81, dtype: object\n"
     ]
    }
   ],
   "source": [
    "print(x)\n",
    "print(y)"
   ]
  },
  {
   "cell_type": "markdown",
   "metadata": {},
   "source": [
    "train test split"
   ]
  },
  {
   "cell_type": "code",
   "execution_count": 17,
   "metadata": {},
   "outputs": [],
   "source": [
    "x_train, x_test, y_train, y_test = train_test_split(x,y,test_size=0.3,random_state=42)"
   ]
  },
  {
   "cell_type": "code",
   "execution_count": 18,
   "metadata": {},
   "outputs": [
    {
     "name": "stdout",
     "output_type": "stream",
     "text": [
      "(81, 3) (56, 3) (25, 3)\n"
     ]
    }
   ],
   "source": [
    "print(x.shape, x_train.shape, x_test.shape)"
   ]
  },
  {
   "cell_type": "code",
   "execution_count": 19,
   "metadata": {},
   "outputs": [],
   "source": [
    "classifier = svm.SVC(kernel='linear')"
   ]
  },
  {
   "cell_type": "code",
   "execution_count": 20,
   "metadata": {},
   "outputs": [
    {
     "data": {
      "text/plain": [
       "SVC(C=1.0, break_ties=False, cache_size=200, class_weight=None, coef0=0.0,\n",
       "    decision_function_shape='ovr', degree=3, gamma='scale', kernel='linear',\n",
       "    max_iter=-1, probability=False, random_state=None, shrinking=True,\n",
       "    tol=0.001, verbose=False)"
      ]
     },
     "execution_count": 20,
     "metadata": {},
     "output_type": "execute_result"
    }
   ],
   "source": [
    "#training the support vector machine\n",
    "classifier.fit(x_train, y_train)"
   ]
  },
  {
   "cell_type": "markdown",
   "metadata": {},
   "source": [
    "Model Evaluation "
   ]
  },
  {
   "cell_type": "markdown",
   "metadata": {},
   "source": [
    "Accuracy Score"
   ]
  },
  {
   "cell_type": "code",
   "execution_count": 21,
   "metadata": {},
   "outputs": [],
   "source": [
    "#accuracy score on the training data\n",
    "x_train_prediction = classifier.predict(x_train)\n",
    "training_data_accuracy = accuracy_score(x_train_prediction, y_train)"
   ]
  },
  {
   "cell_type": "code",
   "execution_count": 22,
   "metadata": {},
   "outputs": [
    {
     "name": "stdout",
     "output_type": "stream",
     "text": [
      "Accuracy score of the training data :  0.8214285714285714\n"
     ]
    }
   ],
   "source": [
    "print('Accuracy score of the training data : ', training_data_accuracy)"
   ]
  },
  {
   "cell_type": "code",
   "execution_count": 23,
   "metadata": {},
   "outputs": [],
   "source": [
    "#accuracy score on the test data\n",
    "x_test_prediction = classifier.predict(x_test)\n",
    "test_data_accuracy = accuracy_score(x_test_prediction, y_test)"
   ]
  },
  {
   "cell_type": "code",
   "execution_count": 24,
   "metadata": {},
   "outputs": [
    {
     "name": "stdout",
     "output_type": "stream",
     "text": [
      "Accuracy score of the test data :  0.76\n"
     ]
    }
   ],
   "source": [
    "print('Accuracy score of the test data : ', test_data_accuracy)"
   ]
  },
  {
   "cell_type": "markdown",
   "metadata": {},
   "source": [
    "Making a predictive System"
   ]
  },
  {
   "cell_type": "code",
   "execution_count": 25,
   "metadata": {},
   "outputs": [
    {
     "name": "stdout",
     "output_type": "stream",
     "text": [
      "[[-0.21914343 -0.65203532 -1.33790708]]\n",
      "['absent']\n",
      "person is not suffering from kyphosis\n"
     ]
    }
   ],
   "source": [
    "input_data=(71,3,5)\n",
    "\n",
    "#chaging the input data to numpy array\n",
    "input_data_as_numpy_array = np.asarray(input_data)\n",
    "\n",
    "#reshape the array as we are predicting for one instance\n",
    "input_data_reshaped = input_data_as_numpy_array.reshape(1,-1)\n",
    "\n",
    "#standardize the input data\n",
    "std_data = scaler.transform(input_data_reshaped)\n",
    "print(std_data)\n",
    "\n",
    "prediction = classifier.predict(std_data)\n",
    "print(prediction)\n",
    "\n",
    "if (prediction[0]=='absent'):\n",
    "    print('person is not suffering from kyphosis')\n",
    "else:\n",
    "    print('person is suffering from kyphosis')"
   ]
  },
  {
   "cell_type": "code",
   "execution_count": null,
   "metadata": {},
   "outputs": [],
   "source": []
  }
 ],
 "metadata": {
  "kernelspec": {
   "display_name": "Python 3",
   "language": "python",
   "name": "python3"
  },
  "language_info": {
   "codemirror_mode": {
    "name": "ipython",
    "version": 3
   },
   "file_extension": ".py",
   "mimetype": "text/x-python",
   "name": "python",
   "nbconvert_exporter": "python",
   "pygments_lexer": "ipython3",
   "version": "3.7.6"
  }
 },
 "nbformat": 4,
 "nbformat_minor": 4
}
